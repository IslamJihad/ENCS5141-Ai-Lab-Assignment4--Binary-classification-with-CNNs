{
 "cells": [
  {
   "cell_type": "markdown",
   "metadata": {},
   "source": [
    "#### islam --> 1191375"
   ]
  },
  {
   "cell_type": "code",
   "execution_count": 72,
   "metadata": {},
   "outputs": [
    {
     "data": {
      "text/plain": [
       "3.857142857142857"
      ]
     },
     "execution_count": 72,
     "metadata": {},
     "output_type": "execute_result"
    }
   ],
   "source": [
    "\n",
    "id = \"1191375\"\n",
    "dig = [int(d) for d in id]\n",
    "threshold = sum(dig) / len(dig)\n",
    "threshold"
   ]
  },
  {
   "cell_type": "code",
   "execution_count": 73,
   "metadata": {},
   "outputs": [],
   "source": [
    "import torch\n",
    "from torchvision import datasets, transforms\n",
    "from torch.utils.data import DataLoader\n",
    "\n",
    "transform = transforms.Compose([transforms.ToTensor()])\n",
    "\n",
    "train_data = datasets.MNIST(root='./data', train=True, download=True, transform=transform)\n",
    "test_data = datasets.MNIST(root='./data', train=False, download=True, transform=transform)\n",
    "\n",
    "def binary_label_transform(label):\n",
    "    return 1 if label > threshold else 0\n",
    "\n",
    "train_data.targets = train_data.targets.apply_(binary_label_transform)\n",
    "test_data.targets = test_data.targets.apply_(binary_label_transform)\n",
    "\n",
    "train_loader = DataLoader(train_data, batch_size=8, shuffle=True)\n",
    "test_loader = DataLoader(test_data, batch_size=8, shuffle=False)\n"
   ]
  },
  {
   "cell_type": "markdown",
   "metadata": {},
   "source": [
    "Define the CNN Model"
   ]
  },
  {
   "cell_type": "code",
   "execution_count": 74,
   "metadata": {},
   "outputs": [
    {
     "name": "stdout",
     "output_type": "stream",
     "text": [
      "cuda:0\n"
     ]
    },
    {
     "data": {
      "text/plain": [
       "SimpleCNN(\n",
       "  (conv1): Conv2d(1, 9, kernel_size=(3, 3), stride=(1, 1))\n",
       "  (conv2): Conv2d(9, 22, kernel_size=(3, 3), stride=(1, 1))\n",
       "  (pool): AvgPool2d(kernel_size=2, stride=2, padding=0)\n",
       "  (fc1): Linear(in_features=550, out_features=191, bias=True)\n",
       "  (fc2): Linear(in_features=191, out_features=16, bias=True)\n",
       "  (fc3): Linear(in_features=16, out_features=1, bias=True)\n",
       ")"
      ]
     },
     "execution_count": 74,
     "metadata": {},
     "output_type": "execute_result"
    }
   ],
   "source": [
    "import torch\n",
    "import torch.nn as nn\n",
    "import torch.nn.functional as F\n",
    "\n",
    "#  1 A B C D Y X\n",
    "#  1 1 9 1 3 7 5\n",
    "\n",
    "\n",
    "class SimpleCNN(nn.Module):\n",
    "    def __init__(self):\n",
    "        super(SimpleCNN, self).__init__()\n",
    "        self.conv1 = nn.Conv2d(1, 9, 3)  # X + 4 = 5 + 4 = 9\n",
    "        self.conv2 = nn.Conv2d(9, 22, 3) # Y + 15 = 7 + 15 = 22\n",
    "        self.pool = nn.AvgPool2d(2, 2)   # Define the pooling layer\n",
    "        self.fc1 = nn.Linear(22 * 5 * 5, 191)  # ABC neurons\n",
    "        self.fc2 = nn.Linear(191, 16)\n",
    "        self.fc3 = nn.Linear(16, 1)\n",
    "\n",
    "# 28 x 28 x 1\n",
    "# 26 x 26 x 9\n",
    "# 13 x 13 x 9\n",
    "# 11 x 11 x 22\n",
    "# 5 x 5 x 22\n",
    "\n",
    "\n",
    "    def forward(self, x):\n",
    "        x = self.pool(F.relu(self.conv1(x)))\n",
    "        x = self.pool(F.relu(self.conv2(x)))\n",
    "        x = torch.flatten(x, 1) # flatten all dimensions except batch\n",
    "        x = F.relu(self.fc1(x))\n",
    "        x = F.relu(self.fc2(x))\n",
    "        x = torch.sigmoid(self.fc3(x))\n",
    "        return x\n",
    "\n",
    "# Create an instance of the SimpleCNN class\n",
    "model = SimpleCNN()\n",
    "\n",
    "# Move the model to GPU if available\n",
    "device = torch.device('cuda:0' if torch.cuda.is_available() else 'cpu')\n",
    "\n",
    "print(device)  \n",
    "model.to(device) \n"
   ]
  },
  {
   "cell_type": "code",
   "execution_count": 75,
   "metadata": {},
   "outputs": [],
   "source": [
    "#optemizer\n",
    "import torch.optim as optim\n",
    "\n",
    "optimizer = optim.Adam(model.parameters(), lr=0.0005)\n",
    "criterion = nn.BCELoss()\n"
   ]
  },
  {
   "cell_type": "code",
   "execution_count": 76,
   "metadata": {},
   "outputs": [
    {
     "data": {
      "text/plain": [
       "SimpleCNN(\n",
       "  (conv1): Conv2d(1, 9, kernel_size=(3, 3), stride=(1, 1))\n",
       "  (conv2): Conv2d(9, 22, kernel_size=(3, 3), stride=(1, 1))\n",
       "  (pool): AvgPool2d(kernel_size=2, stride=2, padding=0)\n",
       "  (fc1): Linear(in_features=550, out_features=191, bias=True)\n",
       "  (fc2): Linear(in_features=191, out_features=16, bias=True)\n",
       "  (fc3): Linear(in_features=16, out_features=1, bias=True)\n",
       ")"
      ]
     },
     "execution_count": 76,
     "metadata": {},
     "output_type": "execute_result"
    }
   ],
   "source": [
    "# use GPU\n",
    "device = torch.device(\"cuda\" if torch.cuda.is_available() else \"cpu\")\n",
    "model.to(device)"
   ]
  },
  {
   "cell_type": "code",
   "execution_count": 77,
   "metadata": {},
   "outputs": [
    {
     "name": "stdout",
     "output_type": "stream",
     "text": [
      "Epoch 1, Loss: 0.008574506267905235, Accuracy: 95.89%\n",
      "Epoch 2, Loss: 0.033928677439689636, Accuracy: 98.78833333333333%\n",
      "Epoch 3, Loss: 0.0008659749291837215, Accuracy: 99.16333333333333%\n",
      "Finished Training\n"
     ]
    }
   ],
   "source": [
    "#Training\n",
    "\n",
    "train_accuracies = []\n",
    "\n",
    "for epoch in range(3):\n",
    "    correct = 0\n",
    "    total = 0\n",
    "    for data in train_loader:\n",
    "        inputs, labels = data\n",
    "        inputs, labels = inputs.to(device), labels.to(device)\n",
    "        optimizer.zero_grad()\n",
    "        outputs = model(inputs)\n",
    "        loss = criterion(outputs, labels.float().unsqueeze(1))\n",
    "        loss.backward()\n",
    "        optimizer.step()\n",
    "\n",
    "        predicted = (outputs > 0.5).float()\n",
    "        correct += (predicted == labels.unsqueeze(1)).sum().item()\n",
    "        total += labels.size(0)\n",
    "\n",
    "    epoch_accuracy = 100 * correct / total\n",
    "    train_accuracies.append(epoch_accuracy)\n",
    "    print(f\"Epoch {epoch+1}, Loss: {loss.item()}, Accuracy: {epoch_accuracy}%\")\n",
    "    \n",
    "print('Finished Training')"
   ]
  },
  {
   "cell_type": "code",
   "execution_count": 78,
   "metadata": {},
   "outputs": [
    {
     "data": {
      "image/png": "[encoded data removed]",
      "text/plain": [
       "<Figure size 640x480 with 1 Axes>"
      ]
     },
     "metadata": {},
     "output_type": "display_data"
    }
   ],
   "source": [
    "import matplotlib.pyplot as plt\n",
    "\n",
    "epochs = range(1, 4)  \n",
    "plt.plot(epochs, train_accuracies, marker='o', linestyle='-', color='b')\n",
    "plt.title('Training Accuracy vs. Epoch')\n",
    "plt.xlabel('Epoch')\n",
    "plt.ylabel('Accuracy')\n",
    "plt.grid(True)\n",
    "plt.show()\n"
   ]
  },
  {
   "cell_type": "code",
   "execution_count": 79,
   "metadata": {},
   "outputs": [
    {
     "name": "stdout",
     "output_type": "stream",
     "text": [
      "Accuracy of the network on the test images: 98.87%\n"
     ]
    }
   ],
   "source": [
    "# I calculated the test accuracy and saved the misclassified imgs, labels and preds\n",
    "correct = 0\n",
    "total = 0\n",
    "misclassified_images = []\n",
    "misclassified_labels = []\n",
    "misclassified_preds = []\n",
    "\n",
    "\n",
    "model.eval()\n",
    "\n",
    "with torch.no_grad():\n",
    "    for data in test_loader:\n",
    "        images, labels = data\n",
    "        images, labels = images.to(device), labels.to(device)\n",
    "        outputs = model(images)\n",
    "        predicted = (outputs > 0.5).float()\n",
    "        \n",
    "        misclassified_mask = (predicted != labels.unsqueeze(1)).squeeze()\n",
    "\n",
    "        \n",
    "        correct += (predicted == labels.unsqueeze(1)).sum().item()\n",
    "        total += labels.size(0)\n",
    "\n",
    "        misclassified_mask = (predicted != labels.unsqueeze(1)).squeeze()\n",
    "\n",
    "        # Ensure mask & lebels  same shape\n",
    "        if misclassified_mask.ndim > 1:\n",
    "            misclassified_mask = misclassified_mask.squeeze(1)\n",
    "\n",
    "        misclassified_images.extend(images[misclassified_mask].cpu())\n",
    "        misclassified_labels.extend(labels[misclassified_mask].cpu())\n",
    "        misclassified_preds.extend(predicted[misclassified_mask].cpu())\n",
    "\n",
    "\n",
    "# Calculate accuracy\n",
    "if total > 0:\n",
    "    accuracy = 100 * correct / total\n",
    "    print(f'Accuracy of the network on the test images: {accuracy}%')\n",
    "else:\n",
    "    print(\"No data to evaluate.\")\n"
   ]
  },
  {
   "cell_type": "code",
   "execution_count": 80,
   "metadata": {},
   "outputs": [
    {
     "data": {
      "image/png": "[encoded data removed]",
      "text/plain": [
       "<Figure size 640x480 with 4 Axes>"
      ]
     },
     "metadata": {},
     "output_type": "display_data"
    }
   ],
   "source": [
    "import matplotlib.pyplot as plt\n",
    "\n",
    "for i, image in enumerate(misclassified_images[:4]):\n",
    "    true_label = misclassified_labels[i].item()\n",
    "    predicted_label = int(misclassified_preds[i].item() > 0.5)\n",
    "    image = image.squeeze()\n",
    "    plt.subplot(2,2,i+1)\n",
    "    plt.imshow(image, cmap=\"gray\")\n",
    "    plt.title(f\"True Label: {true_label}\\nPredicted Label: {predicted_label}\")\n",
    "    plt.axis('off')\n",
    "plt.show()\n"
   ]
  },
  {
   "cell_type": "code",
   "execution_count": null,
   "metadata": {},
   "outputs": [],
   "source": []
  }
 ],
 "metadata": {
  "kernelspec": {
   "display_name": "Python 3",
   "language": "python",
   "name": "python3"
  },
  "language_info": {
   "codemirror_mode": {
    "name": "ipython",
    "version": 3
   },
   "file_extension": ".py",
   "mimetype": "text/x-python",
   "name": "python",
   "nbconvert_exporter": "python",
   "pygments_lexer": "ipython3",
   "version": "3.11.4"
  }
 },
 "nbformat": 4,
 "nbformat_minor": 2
}
